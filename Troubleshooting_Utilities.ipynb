{
 "cells": [
  {
   "cell_type": "markdown",
   "metadata": {},
   "source": [
    "# Troubleshooting Utilities\n",
    "Use these python code snippets to track down and resolve issues. For example, an uploaded (zipped) environment needs to be unzipped. Also, people can encounter permission denied errors upon on running an executable, thus file permissions might need to be adjusted.\n",
    "\n",
    "Available snippets:\n",
    "- Unzip uploads\n",
    "- Check file permissions\n",
    "- Change file permissions\n",
    "- Check file owner\n",
    "- Change file owner"
   ]
  },
  {
   "cell_type": "markdown",
   "metadata": {},
   "source": [
    "## <font color='blue'>Unzip</font>  Archive"
   ]
  },
  {
   "cell_type": "code",
   "execution_count": null,
   "metadata": {},
   "outputs": [],
   "source": [
    "from zipfile import ZipFile\n",
    "with ZipFile('./ml-agents-0.2.1d/build.zip', 'r') as zf:\n",
    "    zf.extractall('./ml-agents-0.2.1d')"
   ]
  },
  {
   "cell_type": "markdown",
   "metadata": {},
   "source": [
    "## <font color='gree'>Check</font> file permissions"
   ]
  },
  {
   "cell_type": "code",
   "execution_count": null,
   "metadata": {},
   "outputs": [],
   "source": [
    "import os\n",
    "import stat\n",
    "from pwd import getpwuid\n",
    "\n",
    "mode = os.stat(\"./ml-agents-0.2.1d/BasketCatch.x86_64\").st_mode\n",
    "print(\"mode:\", stat.S_IMODE(mode))\n",
    "\n",
    "print(\"User Read:\", bool(mode & stat.S_IRUSR))\n",
    "print(\"User Write:\", bool(mode & stat.S_IWUSR))\n",
    "print(\"User Execute:\", bool(mode & stat.S_IXUSR))\n",
    "print(\"Other Read:\", bool(mode & stat.S_IROTH))\n",
    "print(\"Other Write:\", bool(mode & stat.S_IWOTH))\n",
    "print(\"Other Execute:\", bool(mode & stat.S_IXOTH))\n",
    "print(\"Group Read:\", bool(mode & stat.S_IRGRP))\n",
    "print(\"Group Write:\", bool(mode & stat.S_IWGRP))\n",
    "print(\"Group Execute:\", bool(mode & stat.S_IXGRP))"
   ]
  },
  {
   "cell_type": "markdown",
   "metadata": {},
   "source": [
    "## <font color='red'>Change</font> file permissions"
   ]
  },
  {
   "cell_type": "code",
   "execution_count": null,
   "metadata": {},
   "outputs": [],
   "source": [
    "import os\n",
    "os.chmod(\"./ml-agents-0.2.1d/BasketCatch.x86_64\", 0o777) # path, permission (e.g. full)"
   ]
  },
  {
   "cell_type": "markdown",
   "metadata": {},
   "source": [
    "## <font color='gree'>Check</font>  file owner"
   ]
  },
  {
   "cell_type": "code",
   "execution_count": null,
   "metadata": {},
   "outputs": [],
   "source": [
    "from os import stat\n",
    "from pwd import getpwuid\n",
    "\n",
    "getpwuid(stat(\"./ml-agents-0.2.1d/BasketCatch.x86_64\").st_uid).pw_name"
   ]
  },
  {
   "cell_type": "markdown",
   "metadata": {},
   "source": [
    "## <font color='red'>Change</font> file owner"
   ]
  },
  {
   "cell_type": "code",
   "execution_count": null,
   "metadata": {},
   "outputs": [],
   "source": [
    "import os\n",
    "os.chown(\"./ml-agents-0.2.1d/BasketCatch.x86_64\", 1000, 100) # path, uid, gid"
   ]
  }
 ],
 "metadata": {
  "kernelspec": {
   "display_name": "Python 3",
   "language": "python",
   "name": "python3"
  },
  "language_info": {
   "codemirror_mode": {
    "name": "ipython",
    "version": 3
   },
   "file_extension": ".py",
   "mimetype": "text/x-python",
   "name": "python",
   "nbconvert_exporter": "python",
   "pygments_lexer": "ipython3",
   "version": "3.6.3"
  }
 },
 "nbformat": 4,
 "nbformat_minor": 2
}
